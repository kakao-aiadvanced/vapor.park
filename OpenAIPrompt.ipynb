{
 "cells": [
  {
   "cell_type": "code",
   "execution_count": 4,
   "id": "88d3fcbf-0505-4e1e-b3d2-b558a1280789",
   "metadata": {},
   "outputs": [
    {
     "name": "stdin",
     "output_type": "stream",
     "text": [
      "프롬프트를 입력하세요:  오늘 날씨는?\n"
     ]
    },
    {
     "name": "stdout",
     "output_type": "stream",
     "text": [
      "GPT-4o-mini 응답: What is the weather like today?\n"
     ]
    }
   ],
   "source": [
    "import os\n",
    "import openai\n",
    "\n",
    "# export OPENAI_API_KEY='키이름'\n",
    "\n",
    "from openai import OpenAI\n",
    "\n",
    "def get_response(client, prompt):\n",
    "    response = client.chat.completions.create(\n",
    "        model=\"gpt-4o-mini\",\n",
    "        messages=[\n",
    "            {\"role\": \"system\", \"content\": \"내가 입력하는걸 영어로 바꿔줘 \"},\n",
    "            {\"role\": \"user\", \"content\": prompt },\n",
    "        ]\n",
    "    )\n",
    "    return response.choices[0].message.content\n",
    "\n",
    "if __name__ == \"__main__\":\n",
    "    client = OpenAI()  # API 키는 환경 변수에서 자동으로 로드됩니다\n",
    "    user_prompt = input(\"프롬프트를 입력하세요: \")\n",
    "    response = get_response(client, user_prompt)\n",
    "    print(\"GPT-4o-mini 응답:\", response)"
   ]
  },
  {
   "cell_type": "code",
   "execution_count": 5,
   "id": "dfaa1d93-6c7a-4e9c-aed5-303253aad99e",
   "metadata": {},
   "outputs": [
    {
     "name": "stdin",
     "output_type": "stream",
     "text": [
      "프롬프트를 입력하세요:  \n"
     ]
    },
    {
     "name": "stdout",
     "output_type": "stream",
     "text": [
      "GPT-4o-mini 응답: Let's solve the logic puzzle step-by-step based on the clues given:\n",
      "\n",
      "1. **Alice does not like red.**\n",
      "   - This means Alice's favorite color can either be blue or green.\n",
      "\n",
      "2. **Bob does not like blue.**\n",
      "   - This means Bob's favorite color can either be red or green.\n",
      "\n",
      "3. **Carol likes green.**\n",
      "   - This directly tells us that Carol's favorite color is green.\n",
      "\n",
      "Now we can piece together the information:\n",
      "\n",
      "Since Carol likes green, we can update the information:\n",
      "- Carol: Green\n",
      "\n",
      "This leaves us with Alice and Bob, who can only like red or blue.\n",
      "\n",
      "4. **If Carol likes green, then Alice and Bob are left with red and blue.**\n",
      "   - Since Alice does not like red (from clue 1), Alice must like blue.\n",
      "\n",
      "5. **This means Bob must like red** (since he cannot like blue as per clue 2).\n",
      "\n",
      "So, we can summarize the favorite colors:\n",
      "- Alice: Blue\n",
      "- Bob: Red\n",
      "- Carol: Green\n",
      "\n",
      "In conclusion:\n",
      "- Alice's favorite color is blue.\n",
      "- Bob's favorite color is red.\n",
      "- Carol's favorite color is green.\n"
     ]
    }
   ],
   "source": [
    "# export OPENAI_API_KEY='키이름'\n",
    "\n",
    "from openai import OpenAI\n",
    "\n",
    "def get_response(client, prompt):\n",
    "    response = client.chat.completions.create(\n",
    "        model=\"gpt-4o-mini\",\n",
    "        messages=[\n",
    "            {\"role\": \"system\", \"content\": \"\"\"\n",
    "            Solve the following logic puzzle step-by-step:\n",
    "Three friends, Alice, Bob, and Carol, have different favorite colors: red, blue, and green. We know that:\n",
    "1. Alice does not like red.\n",
    "2. Bob does not like blue.\n",
    "3. Carol likes green.\n",
    "\n",
    "Determine the favorite color of each friend.\n",
    "\n",
    "Step-by-step solution:\n",
    "Write your Prompt\n",
    "            \"\"\"},\n",
    "            {\"role\": \"user\", \"content\": prompt },\n",
    "        ]\n",
    "    )\n",
    "    return response.choices[0].message.content\n",
    "\n",
    "if __name__ == \"__main__\":\n",
    "    client = OpenAI()  # API 키는 환경 변수에서 자동으로 로드됩니다\n",
    "    user_prompt = input(\"프롬프트를 입력하세요: \")\n",
    "    response = get_response(client, user_prompt)\n",
    "    print(\"GPT-4o-mini 응답:\", response)"
   ]
  },
  {
   "cell_type": "code",
   "execution_count": null,
   "id": "6c8a5342-d58f-466f-92e5-3a63e7b12b49",
   "metadata": {},
   "outputs": [],
   "source": []
  }
 ],
 "metadata": {
  "kernelspec": {
   "display_name": "Python 3 (ipykernel)",
   "language": "python",
   "name": "python3"
  },
  "language_info": {
   "codemirror_mode": {
    "name": "ipython",
    "version": 3
   },
   "file_extension": ".py",
   "mimetype": "text/x-python",
   "name": "python",
   "nbconvert_exporter": "python",
   "pygments_lexer": "ipython3",
   "version": "3.9.6"
  }
 },
 "nbformat": 4,
 "nbformat_minor": 5
}
